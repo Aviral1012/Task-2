{
 "cells": [
  {
   "cell_type": "code",
   "execution_count": 20,
   "id": "849fac63-1186-452c-9c29-c9637144e148",
   "metadata": {},
   "outputs": [
    {
     "name": "stdin",
     "output_type": "stream",
     "text": [
      "enter the password #@#AVir2al\n"
     ]
    },
    {
     "name": "stdout",
     "output_type": "stream",
     "text": [
      "4 2 1 3\n"
     ]
    },
    {
     "data": {
      "text/plain": [
       "'valid Password'"
      ]
     },
     "execution_count": 20,
     "metadata": {},
     "output_type": "execute_result"
    }
   ],
   "source": [
    "                                                    #SOLUTION 1\n",
    "\n",
    "def check(password):\n",
    "    upper=0\n",
    "    lower=0\n",
    "    num=0\n",
    "    special_character=0\n",
    "    if(len(password)!=10):\n",
    "        return\"Invalid Password\"\n",
    "    elif len(password)==10:\n",
    "        for i in password:\n",
    "            if i.isupper():\n",
    "                upper=upper+1\n",
    "            elif i.islower():\n",
    "                lower=lower+1\n",
    "            elif i.isnumeric():\n",
    "                num=num+1\n",
    "            elif not i.isupper() and not i.islower()  and not i.isnumeric() and not i.isalnum():\n",
    "                special_character=special_character+1\n",
    "        print(lower,upper,num,special_character)\n",
    "        if lower>=2 and upper>=2 and num==1 and special_character==3:\n",
    "            return \"valid Password\"\n",
    "        else:\n",
    "            return \"invalid Password\"\n",
    "        \n",
    "    else:\n",
    "        return \"invalid Password\"\n",
    "givePassword=input(\"enter the password\")\n",
    "check(givePassword)\n",
    "    \n",
    "            "
   ]
  },
  {
   "cell_type": "code",
   "execution_count": 71,
   "id": "1ed91009-2a26-4256-ad1f-a5e7795d0beb",
   "metadata": {},
   "outputs": [
    {
     "name": "stdin",
     "output_type": "stream",
     "text": [
      "enter the string aviral pandey\n",
      "enter the letter u want to chech whether string start with this letter or not: a\n"
     ]
    },
    {
     "name": "stdout",
     "output_type": "stream",
     "text": [
      "True\n"
     ]
    }
   ],
   "source": [
    "                                               #SOLUTION 2\n",
    "# Check if the string starts with a particular letter\n",
    "string=input(\"enter the string\")\n",
    "n=input(\"enter the letter u want to chech whether string start with this letter or not:\") \n",
    "s=lambda x:True if x[0]==n else False\n",
    "print(s(string))\n",
    "    "
   ]
  },
  {
   "cell_type": "code",
   "execution_count": 45,
   "id": "fcad9dbf-bd31-4c65-862a-22e93cb43441",
   "metadata": {},
   "outputs": [
    {
     "name": "stdin",
     "output_type": "stream",
     "text": [
      "enter the value 2324982948984\n"
     ]
    },
    {
     "name": "stdout",
     "output_type": "stream",
     "text": [
      "True\n"
     ]
    }
   ],
   "source": [
    "# Check if the string is numeric\n",
    "n=input(\"enter the value\")\n",
    "a=lambda x:x.isnumeric()\n",
    "print(a(n))"
   ]
  },
  {
   "cell_type": "code",
   "execution_count": 51,
   "id": "fda44c72-5863-4be4-86f6-f0d75dc44f41",
   "metadata": {},
   "outputs": [
    {
     "name": "stdout",
     "output_type": "stream",
     "text": [
      "['mango', 'orange', 'grapes']\n",
      "[99, 80, 1000]\n"
     ]
    }
   ],
   "source": [
    "#Sort a list of tuples having fruit names and their quantity. [(\"mango\",99),(\"orange\",80), (\"grapes\", 1000)]\n",
    "print(list(map(lambda x:x[0], [(\"mango\",99),(\"orange\",80), (\"grapes\", 1000)])))\n",
    "print(list(map(lambda x:x[1], [(\"mango\",99),(\"orange\",80), (\"grapes\", 1000)])))"
   ]
  },
  {
   "cell_type": "code",
   "execution_count": 23,
   "id": "b97708ca-de4f-4794-a56b-5ee349c45f66",
   "metadata": {},
   "outputs": [
    {
     "name": "stdout",
     "output_type": "stream",
     "text": [
      "[1, 4, 9, 16, 25, 36, 49, 64, 81, 100]\n"
     ]
    }
   ],
   "source": [
    "#Find the squares of numbers from 1 to 10\n",
    "print(list(map(lambda x:x**2,[1,2,3,4,5,6,7,8,9,10])))"
   ]
  },
  {
   "cell_type": "code",
   "execution_count": 24,
   "id": "4a52242e-5e99-4b1f-b22e-9c63b5963b8c",
   "metadata": {},
   "outputs": [
    {
     "name": "stdout",
     "output_type": "stream",
     "text": [
      "[1, 8, 27, 64, 125, 216, 343, 512, 729, 1000]\n"
     ]
    }
   ],
   "source": [
    "# Find the cube root of numbers from 1 to 10\n",
    "print(list(map(lambda x:x**3,[1,2,3,4,5,6,7,8,9,10])))"
   ]
  },
  {
   "cell_type": "code",
   "execution_count": 30,
   "id": "e7137b50-19fa-499f-9c23-48e4e1ddd206",
   "metadata": {},
   "outputs": [
    {
     "name": "stdin",
     "output_type": "stream",
     "text": [
      "Enter the number 24\n"
     ]
    },
    {
     "name": "stdout",
     "output_type": "stream",
     "text": [
      "True\n"
     ]
    }
   ],
   "source": [
    "#Check if a given number is even\n",
    "n=int(input(\"Enter the number\"))\n",
    "a=lambda x:x%2==0\n",
    "print(a(n))"
   ]
  },
  {
   "cell_type": "code",
   "execution_count": 32,
   "id": "6f093ba6-f57f-4f22-ac5d-99de0482cb4c",
   "metadata": {},
   "outputs": [
    {
     "name": "stdout",
     "output_type": "stream",
     "text": [
      "[1, 3, 5, 7, 9]\n"
     ]
    }
   ],
   "source": [
    "# Filter odd numbers from the given list. [1,2,3,4,5,6,7,8,9,10]\n",
    "print(list(filter(lambda x:x%2==1,[1,2,3,4,5,6,7,8,9,10])))\n",
    "\n",
    " "
   ]
  },
  {
   "cell_type": "code",
   "execution_count": 36,
   "id": "a19acd38-6272-4609-a869-8793d56bc555",
   "metadata": {},
   "outputs": [
    {
     "name": "stdout",
     "output_type": "stream",
     "text": [
      "[1, 2, 3, 4, 5, 6, 0]\n",
      "[-1, -2, -3, -4, -5]\n"
     ]
    }
   ],
   "source": [
    "# Sort a list of integers into positive and negative integers lists. [1,2,3,4,5,6,-1,-2,-3,-4,-5,0]\n",
    "print(list(filter(lambda x:x>=0, [1,2,3,4,5,6,-1,-2,-3,-4,-5,0])))\n",
    "print(list(filter(lambda x:x<0, [1,2,3,4,5,6,-1,-2,-3,-4,-5,0])))\n"
   ]
  }
 ],
 "metadata": {
  "kernelspec": {
   "display_name": "Python 3 (ipykernel)",
   "language": "python",
   "name": "python3"
  },
  "language_info": {
   "codemirror_mode": {
    "name": "ipython",
    "version": 3
   },
   "file_extension": ".py",
   "mimetype": "text/x-python",
   "name": "python",
   "nbconvert_exporter": "python",
   "pygments_lexer": "ipython3",
   "version": "3.10.6"
  }
 },
 "nbformat": 4,
 "nbformat_minor": 5
}
